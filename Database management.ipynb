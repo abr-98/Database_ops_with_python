{
 "cells": [
  {
   "cell_type": "code",
   "execution_count": 1,
   "metadata": {},
   "outputs": [],
   "source": [
    "import happybase\n",
    "conn=happybase.Connection('localhost',8080)\n",
    "table=conn.table('users')"
   ]
  },
  {
   "cell_type": "code",
   "execution_count": null,
   "metadata": {},
   "outputs": [],
   "source": [
    "def get_data():\n",
    "    import random\n",
    "    name=input('Name: ')\n",
    "    From=input('From: ')\n",
    "    education=input('Education: ')\n",
    "    profession=input('Profession: ')\n",
    "    location=input('Current location: ')\n",
    "    Birthday=input('Birthday')\n",
    "    \n",
    "    \n",
    "    \n",
    "    #id_u='R1'\n",
    "    \n",
    "    while True:\n",
    "        num=random.randint(1, 10001)\n",
    "        id_u='R'+name.replace(' ','_')+'_'+Birthday[:2]+'_'+str(num)\n",
    "        #print(id_u)\n",
    "    \n",
    "    \n",
    "        try:\n",
    "            row=table.row(id_u)\n",
    "            #print(\"b\")\n",
    "        except:\n",
    "            row={}\n",
    "        print(row)\n",
    "        if len(row)==0:\n",
    "            #print(\"c\")\n",
    "            break\n",
    "    #id_b=''.join(format(ord(i), 'b') for i in id_u)\n",
    "    #name_b=''.join(format(ord(i), 'b') for i in name)\n",
    "    #from_b=''.join(format(ord(i), 'b') for i in From)\n",
    "    #edu_b=''.join(format(ord(i), 'b') for i in education)\n",
    "    #pro_b=''.join(format(ord(i), 'b') for i in profession)\n",
    "    #loc_b=''.join(format(ord(i), 'b') for i in location)\n",
    "    #bir_b=''.join(format(ord(i), 'b') for i in Birthday)\n",
    "    \n",
    "    \n",
    "    \n",
    "    #print(\"a\")\n",
    "    \n",
    "    table.put(id_u, {b'cf_user_1:name': name,b'cf_user_1:from': From,b'cf_user_1:Education': education,b'cf_user_1:Profession': profession,b'cf_user_1:location': location,b'cf_user_1:birthday': Birthday}) \n",
    "    #table.put(b'R2',{b'cf_user_1:c1':b'v1',b'cf_user_1:c2':b'v2'})\n",
    "        \n",
    "        \n",
    "        \n",
    "        \n",
    "    \n",
    "    "
   ]
  },
  {
   "cell_type": "code",
   "execution_count": null,
   "metadata": {},
   "outputs": [],
   "source": [
    "get_data()"
   ]
  },
  {
   "cell_type": "code",
   "execution_count": 3,
   "metadata": {},
   "outputs": [
    {
     "name": "stdout",
     "output_type": "stream",
     "text": [
      "{b'cf_user_1:Education': b'NIT Durgapur', b'cf_user_1:Profession': b'Student', b'cf_user_1:birthday': b'03.10.1998', b'cf_user_1:from': b'Burdwan', b'cf_user_1:location': b'Durgapur', b'cf_user_1:name': b'Abhijit Roy'}\n"
     ]
    }
   ],
   "source": [
    "#table.put('R3',{b'cf_user_1:c1':'v1',b'cf_user_1:c2':'v2'})\n",
    "row=table.row('RAbhijit_Roy_03_2944')\n",
    "print(row)"
   ]
  },
  {
   "cell_type": "code",
   "execution_count": 2,
   "metadata": {},
   "outputs": [],
   "source": [
    "import MySQLdb\n",
    "import mysql.connector\n",
    "conn= mysql.connector.connect(host=\"localhost\",user=\"abhijit\",passwd=\"1234\",db=\"users\" )\n"
   ]
  },
  {
   "cell_type": "code",
   "execution_count": 4,
   "metadata": {},
   "outputs": [],
   "source": [
    "id1='234'\n",
    "email='abc@gmail.com'\n",
    "passwd='1234'\n",
    "mycursor = conn.cursor()\n",
    "#mycursor.execute('INSERT INTO user_details (id,email,password) VALUES(\"%s\",\"%s\",\"%s\")'%(id1,email,passwd))\n",
    "#conn.commit()"
   ]
  },
  {
   "cell_type": "code",
   "execution_count": 5,
   "metadata": {},
   "outputs": [
    {
     "name": "stdout",
     "output_type": "stream",
     "text": [
      " * Serving Flask app \"__main__\" (lazy loading)\n",
      " * Environment: production\n",
      "   WARNING: Do not use the development server in a production environment.\n",
      "   Use a production WSGI server instead.\n",
      " * Debug mode: off\n"
     ]
    },
    {
     "name": "stderr",
     "output_type": "stream",
     "text": [
      " * Running on http://127.0.0.1:5000/ (Press CTRL+C to quit)\n",
      "127.0.0.1 - - [23/Oct/2020 02:25:02] \"\u001b[37mPOST /signup_details HTTP/1.1\u001b[0m\" 200 -\n"
     ]
    },
    {
     "name": "stdout",
     "output_type": "stream",
     "text": [
      "abhir\n",
      "A\n"
     ]
    },
    {
     "name": "stderr",
     "output_type": "stream",
     "text": [
      "127.0.0.1 - - [23/Oct/2020 02:25:16] \"\u001b[37mPOST /personal_info HTTP/1.1\u001b[0m\" 200 -\n"
     ]
    },
    {
     "name": "stdout",
     "output_type": "stream",
     "text": [
      "['abhir', 'Abhijit Roy', 'Burdwan', 'NIT Durgapur', 'Student', 'Durgapur', '03.10.1998', 'uploads/self_img.jpg']\n",
      "{}\n"
     ]
    }
   ],
   "source": [
    "from flask import Flask,request,render_template,redirect,flash\n",
    "import pickle\n",
    "from werkzeug import secure_filename\n",
    "import numpy as np\n",
    "import flask\n",
    "import os\n",
    "\n",
    "\n",
    "UPLOAD_FOLDER = 'uploads'\n",
    "\n",
    "app = Flask(__name__, template_folder='templates')\n",
    "#app.secret_key = \"secret key\"\n",
    "app.config['UPLOAD_FOLDER'] = UPLOAD_FOLDER\n",
    "\n",
    "\n",
    "def sendResponse(responseObj):\n",
    "    response = flask.jsonify(responseObj)\n",
    "    response.headers.add('Access-Control-Allow-Origin', '*')\n",
    "    response.headers.add('Access-Control-Allow-Methods', 'GET')\n",
    "    response.headers.add('Access-Control-Allow-Headers', 'accept,content-type,Origin,X-Requested-With,Content-Type,access_token,Accept,Authorization,source')\n",
    "    response.headers.add('Access-Control-Allow-Credentials', True)\n",
    "    return response\n",
    "\n",
    "@app.route('/signup')\n",
    "def signup():\n",
    "    return render_template('get.html')\n",
    "\n",
    "@app.route('/signup_details',methods=['POST'])\n",
    "def signup_details():\n",
    "    if request.method=='POST':\n",
    "        email=request.form.get('Email')\n",
    "        passwd=request.form.get('Passwd')\n",
    "        con_passwd=request.form.get('Con_Passwd')\n",
    "    \n",
    "        if email=='' or passwd=='' or con_passwd=='':\n",
    "            flash('fields empty')\n",
    "            return redirect(request.url)\n",
    "    \n",
    "        if passwd!=con_passwd:\n",
    "            flash('Password do not match')\n",
    "            return redirect(request.url)\n",
    "        query=\"\"\"SELECT * FROM user_details WHERE email='%s'\"\"\"%(email)\n",
    "        mycursor = conn.cursor()\n",
    "        mycursor.execute(query)\n",
    "        dup=mycursor.fetchall()\n",
    "        i=mycursor.rowcount\n",
    "    \n",
    "        if i!=0:\n",
    "            flash('Emails exist')\n",
    "            return redirect(request.url)\n",
    "        mycursor = conn.cursor()\n",
    "        id1=email.split('@')[0]\n",
    "        print(id1)\n",
    "        mycursor = conn.cursor()\n",
    "        mycursor.execute('INSERT INTO user_details (id,email,password) VALUES(\"%s\",\"%s\",\"%s\")'%(id1,email,passwd))\n",
    "        conn.commit()\n",
    "        print(\"A\")\n",
    "        return render_template('signup.html',name=id1)\n",
    "    else:\n",
    "        return redirect(request.url)\n",
    "    \n",
    "\n",
    "@app.route('/personal_info',methods=['POST'])\n",
    "def personal_info():\n",
    "\n",
    "    fields=['usr_name','Name','From','Education','Profession','location','Birthday']\n",
    "    \n",
    "    record=[]\n",
    "    if request.method=='POST':\n",
    "        for i in range(len(fields)):\n",
    "            if request.form.get(fields[i])==\"\":\n",
    "                flash('fields missing')\n",
    "                return redirect(request.url)\n",
    "            record.append(request.form.get(fields[i]))\n",
    "        if 'file' not in request.files:\n",
    "            flash('No file part')\n",
    "            return redirect(request.url)\n",
    "        file = request.files['file']\n",
    "        if file.filename == '':\n",
    "            flash('No file selected for uploading')\n",
    "            return redirect(request.url)\n",
    "        if file:\n",
    "            filename = secure_filename(file.filename)\n",
    "            file.save(os.path.join(app.config['UPLOAD_FOLDER'],filename))\n",
    "            na=os.path.join(app.config['UPLOAD_FOLDER'],filename)\n",
    "        record.append(na)\n",
    "        print(record)\n",
    "        #print()\n",
    "        while True:\n",
    "            id_u='R'+record[0]\n",
    "            #print(id_u)\n",
    "    \n",
    "    \n",
    "            try:\n",
    "                row=table.row(id_u)\n",
    "                #print(\"b\")\n",
    "            except:\n",
    "                row={}\n",
    "            print(row)\n",
    "            if len(row)==0:\n",
    "                #print(\"c\")\n",
    "                break\n",
    "        \n",
    "        table.put(id_u, {b'cf_user_1:name': record[0],b'cf_user_1:from': record[1],b'cf_user_1:Education': record[2],b'cf_user_1:Profession': record[3],b'cf_user_1:location': record[4],b'cf_user_1:birthday': record[5],b'cf_user_1:profile_pic': record[6]})\n",
    "        return render_template('success.html')\n",
    "    else:\n",
    "        return redirect(request.url)\n",
    "\n",
    "\n",
    "        \n",
    "        \n",
    "\n",
    "    \n",
    "        \n",
    "if __name__ == \"__main__\":\n",
    "    app.run()\n",
    "    \n",
    "    "
   ]
  },
  {
   "cell_type": "code",
   "execution_count": null,
   "metadata": {},
   "outputs": [],
   "source": []
  },
  {
   "cell_type": "code",
   "execution_count": null,
   "metadata": {},
   "outputs": [],
   "source": []
  }
 ],
 "metadata": {
  "kernelspec": {
   "display_name": "Python 3",
   "language": "python",
   "name": "python3"
  },
  "language_info": {
   "codemirror_mode": {
    "name": "ipython",
    "version": 3
   },
   "file_extension": ".py",
   "mimetype": "text/x-python",
   "name": "python",
   "nbconvert_exporter": "python",
   "pygments_lexer": "ipython3",
   "version": "3.6.9"
  }
 },
 "nbformat": 4,
 "nbformat_minor": 2
}
