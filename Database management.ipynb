{
 "cells": [
  {
   "cell_type": "code",
   "execution_count": 88,
   "metadata": {},
   "outputs": [],
   "source": [
    "import happybase\n",
    "conn=happybase.Connection('localhost',8080)\n",
    "table=conn.table('users')"
   ]
  },
  {
   "cell_type": "code",
   "execution_count": 2,
   "metadata": {},
   "outputs": [],
   "source": [
    "def get_data():\n",
    "    import random\n",
    "    name=input('Name: ')\n",
    "    From=input('From: ')\n",
    "    education=input('Education: ')\n",
    "    profession=input('Profession: ')\n",
    "    location=input('Current location: ')\n",
    "    Birthday=input('Birthday')\n",
    "    \n",
    "    \n",
    "    \n",
    "    #id_u='R1'\n",
    "    \n",
    "    while True:\n",
    "        num=random.randint(1, 10001)\n",
    "        id_u='R'+name.replace(' ','_')+'_'+Birthday[:2]+'_'+str(num)\n",
    "        #print(id_u)\n",
    "    \n",
    "    \n",
    "        try:\n",
    "            row=table.row(id_u)\n",
    "            #print(\"b\")\n",
    "        except:\n",
    "            row={}\n",
    "        print(row)\n",
    "        if len(row)==0:\n",
    "            #print(\"c\")\n",
    "            break\n",
    "    #id_b=''.join(format(ord(i), 'b') for i in id_u)\n",
    "    #name_b=''.join(format(ord(i), 'b') for i in name)\n",
    "    #from_b=''.join(format(ord(i), 'b') for i in From)\n",
    "    #edu_b=''.join(format(ord(i), 'b') for i in education)\n",
    "    #pro_b=''.join(format(ord(i), 'b') for i in profession)\n",
    "    #loc_b=''.join(format(ord(i), 'b') for i in location)\n",
    "    #bir_b=''.join(format(ord(i), 'b') for i in Birthday)\n",
    "    \n",
    "    \n",
    "    \n",
    "    #print(\"a\")\n",
    "    \n",
    "    table.put(id_u, {b'cf_user_1:name': name,b'cf_user_1:from': From,b'cf_user_1:Education': education,b'cf_user_1:Profession': profession,b'cf_user_1:location': location,b'cf_user_1:birthday': Birthday}) \n",
    "    #table.put(b'R2',{b'cf_user_1:c1':b'v1',b'cf_user_1:c2':b'v2'})\n",
    "        \n",
    "        \n",
    "        \n",
    "        \n",
    "    \n",
    "    "
   ]
  },
  {
   "cell_type": "code",
   "execution_count": 89,
   "metadata": {},
   "outputs": [
    {
     "name": "stdout",
     "output_type": "stream",
     "text": [
      "{b'cf_user_1:id': b'1'}\n"
     ]
    }
   ],
   "source": [
    "#table.put('R3',{b'cf_user_1:c1':'v1',b'cf_user_1:c2':'v2'})\n",
    "row=table.row('R1')\n",
    "print(row)"
   ]
  },
  {
   "cell_type": "code",
   "execution_count": 90,
   "metadata": {},
   "outputs": [],
   "source": [
    "import MySQLdb\n",
    "import mysql.connector\n",
    "conn= mysql.connector.connect(host=\"localhost\",user=\"abhijit\",passwd=\"1234\",db=\"users\" )\n"
   ]
  },
  {
   "cell_type": "code",
   "execution_count": 91,
   "metadata": {},
   "outputs": [],
   "source": [
    "import pymongo\n",
    "from pymongo import MongoClient\n",
    "client = MongoClient()\n",
    "client = MongoClient('localhost', 27017)"
   ]
  },
  {
   "cell_type": "code",
   "execution_count": 92,
   "metadata": {},
   "outputs": [],
   "source": [
    "db_mongo = client['user_connections']\n",
    "m_user_recs= db_mongo['user_records']"
   ]
  },
  {
   "cell_type": "code",
   "execution_count": 84,
   "metadata": {},
   "outputs": [
    {
     "data": {
      "text/plain": [
       "Collection(Database(MongoClient(host=['localhost:27017'], document_class=dict, tz_aware=False, connect=True), 'user_connections'), 'user_records')"
      ]
     },
     "execution_count": 84,
     "metadata": {},
     "output_type": "execute_result"
    }
   ],
   "source": [
    "m_user_recs"
   ]
  },
  {
   "cell_type": "code",
   "execution_count": 29,
   "metadata": {},
   "outputs": [
    {
     "name": "stderr",
     "output_type": "stream",
     "text": [
      "/home/abhijit/.local/lib/python3.6/site-packages/ipykernel_launcher.py:1: DeprecationWarning: remove is deprecated. Use delete_one or delete_many instead.\n",
      "  \"\"\"Entry point for launching an IPython kernel.\n"
     ]
    },
    {
     "data": {
      "text/plain": [
       "{'n': 3, 'ok': 1.0}"
      ]
     },
     "execution_count": 29,
     "metadata": {},
     "output_type": "execute_result"
    }
   ],
   "source": [
    "m_user_recs.remove()"
   ]
  },
  {
   "cell_type": "code",
   "execution_count": 19,
   "metadata": {},
   "outputs": [],
   "source": [
    "data={\n",
    "\t'c_id':'abhi',\n",
    "\t'connections':['123','myac.a','abhir'],\n",
    "\t'posts':[]}"
   ]
  },
  {
   "cell_type": "code",
   "execution_count": null,
   "metadata": {},
   "outputs": [],
   "source": [
    "d={'ar':1,'br':4,'cr':3,'dr':5,'er':2}"
   ]
  },
  {
   "cell_type": "code",
   "execution_count": null,
   "metadata": {},
   "outputs": [],
   "source": [
    "s = sorted(d, key=lambda x: x[1], reverse=True)"
   ]
  },
  {
   "cell_type": "code",
   "execution_count": null,
   "metadata": {},
   "outputs": [],
   "source": [
    "s"
   ]
  },
  {
   "cell_type": "code",
   "execution_count": null,
   "metadata": {},
   "outputs": [],
   "source": [
    "data"
   ]
  },
  {
   "cell_type": "code",
   "execution_count": 20,
   "metadata": {},
   "outputs": [
    {
     "name": "stderr",
     "output_type": "stream",
     "text": [
      "/home/abhijit/.local/lib/python3.6/site-packages/ipykernel_launcher.py:1: DeprecationWarning: insert is deprecated. Use insert_one or insert_many instead.\n",
      "  \"\"\"Entry point for launching an IPython kernel.\n"
     ]
    },
    {
     "data": {
      "text/plain": [
       "ObjectId('5f942323f9206b6c0904ef00')"
      ]
     },
     "execution_count": 20,
     "metadata": {},
     "output_type": "execute_result"
    }
   ],
   "source": [
    "m_user_recs.insert(data)"
   ]
  },
  {
   "cell_type": "code",
   "execution_count": 30,
   "metadata": {},
   "outputs": [],
   "source": [
    "fr=m_user_recs.find()\n",
    "for r in fr:\n",
    "    print(r)"
   ]
  },
  {
   "cell_type": "code",
   "execution_count": 93,
   "metadata": {},
   "outputs": [],
   "source": [
    "id1='234'\n",
    "email='abc@gmail.com'\n",
    "passwd='1234'\n",
    "mycursor = conn.cursor()\n",
    "#mycursor.execute('INSERT INTO user_details (id,email,password) VALUES(\"%s\",\"%s\",\"%s\")'%(id1,email,passwd))\n",
    "#conn.commit()"
   ]
  },
  {
   "cell_type": "code",
   "execution_count": 94,
   "metadata": {},
   "outputs": [
    {
     "name": "stdout",
     "output_type": "stream",
     "text": [
      " * Serving Flask app \"__main__\" (lazy loading)\n",
      " * Environment: production\n",
      "   WARNING: Do not use the development server in a production environment.\n",
      "   Use a production WSGI server instead.\n",
      " * Debug mode: off\n"
     ]
    },
    {
     "name": "stderr",
     "output_type": "stream",
     "text": [
      " * Running on http://127.0.0.1:5000/ (Press CTRL+C to quit)\n",
      "127.0.0.1 - - [25/Oct/2020 00:00:10] \"\u001b[37mPOST /search HTTP/1.1\u001b[0m\" 200 -\n",
      "127.0.0.1 - - [25/Oct/2020 00:00:21] \"\u001b[33mPOST /connect HTTP/1.1\u001b[0m\" 404 -\n"
     ]
    }
   ],
   "source": [
    "from flask import Flask,request,render_template,redirect,flash\n",
    "import pickle\n",
    "from werkzeug import secure_filename\n",
    "import numpy as np\n",
    "import flask\n",
    "import os\n",
    "\n",
    "\n",
    "#Settings\n",
    "\n",
    "UPLOAD_FOLDER = 'uploads'\n",
    "\n",
    "app = Flask(__name__, template_folder='templates')\n",
    "#app.secret_key = \"secret key\"\n",
    "app.config['UPLOAD_FOLDER'] = UPLOAD_FOLDER\n",
    "\n",
    "#Response Template\n",
    "\n",
    "def sendResponse(responseObj):\n",
    "    response = flask.jsonify(responseObj)\n",
    "    response.headers.add('Access-Control-Allow-Origin', '*')\n",
    "    response.headers.add('Access-Control-Allow-Methods', 'GET')\n",
    "    response.headers.add('Access-Control-Allow-Headers', 'accept,content-type,Origin,X-Requested-With,Content-Type,access_token,Accept,Authorization,source')\n",
    "    response.headers.add('Access-Control-Allow-Credentials', True)\n",
    "    return response\n",
    "\n",
    "#Signup\n",
    "\n",
    "@app.route('/signup')\n",
    "def signup():\n",
    "    return render_template('get.html')\n",
    "\n",
    "@app.route('/signup_details',methods=['POST'])\n",
    "def signup_details():\n",
    "    if request.method=='POST':\n",
    "        email=request.form.get('Email')\n",
    "        passwd=request.form.get('Passwd')\n",
    "        con_passwd=request.form.get('Con_Passwd')\n",
    "    \n",
    "        if email=='' or passwd=='' or con_passwd=='':\n",
    "            #flash('fields empty')\n",
    "            return redirect(request.url)\n",
    "    \n",
    "        if passwd!=con_passwd:\n",
    "            #flash('Password do not match')\n",
    "            return redirect(request.url)\n",
    "        query=\"\"\"SELECT * FROM user_details WHERE email='%s'\"\"\"%(email)\n",
    "        mycursor = conn.cursor()\n",
    "        mycursor.execute(query)\n",
    "        dup=mycursor.fetchall()\n",
    "        i=mycursor.rowcount\n",
    "    \n",
    "        if i!=0:\n",
    "            #flash('Emails exist')\n",
    "            return redirect(request.url)\n",
    "        mycursor = conn.cursor()\n",
    "        id1=email.split('@')[0]\n",
    "        print(id1)\n",
    "        mycursor = conn.cursor()\n",
    "        mycursor.execute('INSERT INTO user_details (id,email,password) VALUES(\"%s\",\"%s\",\"%s\")'%(id1,email,passwd))\n",
    "        conn.commit()\n",
    "        print(\"A\")\n",
    "        return render_template('signup.html',name=id1)\n",
    "    else:\n",
    "        return redirect(request.url)\n",
    "    \n",
    "#Fill Details    \n",
    "\n",
    "@app.route('/personal_info',methods=['POST'])\n",
    "def personal_info():\n",
    "\n",
    "    fields=['usr_name','Name','From','Education','Profession','location','Birthday']\n",
    "    \n",
    "    record=[]\n",
    "    if request.method=='POST':\n",
    "        for i in range(len(fields)):\n",
    "            if request.form.get(fields[i])==\"\":\n",
    "                #flash('fields missing')\n",
    "                return redirect(request.url)\n",
    "            record.append(request.form.get(fields[i]))\n",
    "        if 'file' not in request.files:\n",
    "            #flash('No file part')\n",
    "            return redirect(request.url)\n",
    "        file = request.files['file']\n",
    "        if file.filename == '':\n",
    "            #flash('No file selected for uploading')\n",
    "            return redirect(request.url)\n",
    "        if file:\n",
    "            filename = secure_filename(file.filename)\n",
    "            file.save(os.path.join(app.config['UPLOAD_FOLDER'],filename))\n",
    "            na=os.path.join(app.config['UPLOAD_FOLDER'],filename)\n",
    "        record.append(na)\n",
    "        print(record)\n",
    "        #print()\n",
    "        while True:\n",
    "            id_u='R'+record[0]\n",
    "            #print(id_u)\n",
    "    \n",
    "    \n",
    "            try:\n",
    "                row=table.row(id_u)\n",
    "                #print(\"b\")\n",
    "            except:\n",
    "                row={}\n",
    "            print(row)\n",
    "            if len(row)==0:\n",
    "                #print(\"c\")\n",
    "                break\n",
    "        \n",
    "        table.put(id_u, {b'cf_user_1:name': record[1],b'cf_user_1:from': record[2],b'cf_user_1:Education': record[3],b'cf_user_1:Profession': record[4],b'cf_user_1:location': record[5],b'cf_user_1:birthday': record[6],b'cf_user_1:profile_pic': record[7]})\n",
    "        return render_template('success.html')\n",
    "    else:\n",
    "        return redirect(request.url)\n",
    "        \n",
    "#Log in    \n",
    "\n",
    "@app.route('/login',methods=['POST'])\n",
    "def login():\n",
    "    if request.method=='POST':\n",
    "        return render_template('login.html')\n",
    "    else:\n",
    "        return redirect(request.url)\n",
    "@app.route('/log')\n",
    "def log():\n",
    "    return render_template('login.html')\n",
    "\n",
    "@app.route('/login_det',methods=['POST'])\n",
    "def login_det():\n",
    "    if request.method=='POST':\n",
    "        email=request.form.get('Email')\n",
    "        passwd=request.form.get('Passwd')\n",
    "        query=\"\"\"SELECT password FROM user_details WHERE email='%s'\"\"\"%(email)\n",
    "        mycursor = conn.cursor()\n",
    "        mycursor.execute(query)\n",
    "        \n",
    "        record=mycursor.fetchall()\n",
    "        \n",
    "        if record==0:\n",
    "            #flash('The email is not registered.Please register')\n",
    "            return render_template('get.html')\n",
    "        \n",
    "        else:\n",
    "            print(record[0][0])\n",
    "            if passwd==record[0][0]:\n",
    "                query=\"\"\"SELECT id FROM user_details WHERE email='%s'\"\"\"%(email)\n",
    "                mycursor = conn.cursor()\n",
    "                mycursor.execute(query)\n",
    "                id1=mycursor.fetchall()\n",
    "                print(id1[0][0])\n",
    "                return render_template('succ_login.html',name=id1[0][0])\n",
    "            else:\n",
    "                #flash('Wrong password. Please try again')\n",
    "                return redirect(request.url)\n",
    "    else:\n",
    "        \n",
    "        return redirect(request.url)\n",
    "\n",
    "#home    \n",
    "    \n",
    "@app.route('/cont',methods=['POST'])\n",
    "def cont():\n",
    "    if request.method=='POST':\n",
    "        id1=request.form.get('usr_name')\n",
    "        return render_template('home.html',name=id1)\n",
    "    else:\n",
    "        return redirect(request.url)\n",
    "\n",
    "#add friends    \n",
    "    \n",
    "@app.route('/add_fr',methods=['POST'])\n",
    "def add_fr():\n",
    "    if request.method=='POST':\n",
    "        id1=request.form.get('usr_name')\n",
    "        id_k='R'+id1\n",
    "        row_u=table.row(id_k)\n",
    "        #print(row_u)\n",
    "        l_u=row_u[b'cf_user_1:location']\n",
    "        f_u=row_u[b'cf_user_1:from']\n",
    "        e_u=row_u[b'cf_user_1:Education']\n",
    "        #print(l_u)\n",
    "        try:\n",
    "            recs=m_user_recs.find({\"c_id\":id1})\n",
    "        except:\n",
    "            recs=[]\n",
    "        #print(recs)\n",
    "        #print(\"A\")\n",
    "        if recs.count()==0:\n",
    "            return render_template('first_add.html',name=id1)\n",
    "        else:\n",
    "            recs=m_user_recs.find({\"c_id\":id1})\n",
    "            #print(recs)\n",
    "            #print(\"V\") \n",
    "            for r in recs: \n",
    "                frnds=r['connections']\n",
    "            #print(frnds)\n",
    "            may_be=[]\n",
    "            for f in frnds:\n",
    "                recs=m_user_recs.find({\"c_id\":f})\n",
    "                temp=[]\n",
    "                for i in recs:\n",
    "                    temp=i['connections']\n",
    "                for t in temp:\n",
    "                    if t not in may_be:\n",
    "                        may_be.append(t)\n",
    "            #print(\"C\")\n",
    "            #print(may_be)\n",
    "            pred={}\n",
    "            loc=[]\n",
    "            fr=[]    \n",
    "            edu=[]\n",
    "            for m in may_be:\n",
    "                u='R'+m\n",
    "                row_f=table.row(u)\n",
    "                #print(row_f)\n",
    "                loc.append(row_f[b'cf_user_1:location'])\n",
    "                fr.append(row_f[b'cf_user_1:from'])\n",
    "                edu.append(row_f[b'cf_user_1:Education'])\n",
    "            for i in range(len(edu)):\n",
    "                score=0\n",
    "                if l_u==loc[i]:\n",
    "                    score+=1\n",
    "                if f_u==fr[i]:\n",
    "                    score+=1\n",
    "                if e_u==edu[i]:\n",
    "                    score+=1\n",
    "                pred[may_be[i]]=score\n",
    "            pred_s = sorted(pred, key=lambda x: x[1], reverse=True)\n",
    "            for f in frnds:\n",
    "                pred_s.remove(f)               \n",
    "                \n",
    "            return render_template('add_friend.html',name=id1,pred_1=pred_s[0],pred_2=pred_s[1],pred_3=pred_s[2],pred_4=pred_s[3],pred_5=pred_s[4])            \n",
    "    else:\n",
    "        return redirect(request.url)\n",
    "    \n",
    "#Search Friends\n",
    "\n",
    "@app.route('/search',methods=['POST'])\n",
    "def search():\n",
    "    if request.method=='POST':\n",
    "        id1=request.form.get('usr_name')\n",
    "        srch=request.form.get('search')\n",
    "        \n",
    "        search_id='R'+srch\n",
    "        row=table.row(search_id)\n",
    "        if len(row)==0:\n",
    "            #flash('Oops the person is not present')\n",
    "            return render_template('home.html')\n",
    "        \n",
    "        name=row[b'cf_user_1:name']\n",
    "        address=row[b'cf_user_1:location']\n",
    "        edu=row[b'cf_user_1:Education']\n",
    "        \n",
    "        return render_template('search_obtain.html',nam=id1,na=name,ad=address,ed=edu,sr=srch)\n",
    "    \n",
    "    else:\n",
    "        return redirect(request.url)    \n",
    "\n",
    "#Connect\n",
    "\n",
    "@app.route('/connect',methods=['POST'])\n",
    "def connect():\n",
    "    if request.method=='POST':\n",
    "        id1=request.form.get('usr_name')\n",
    "        con=request.form.get('con_name')\n",
    "        \n",
    "        \n",
    "        \n",
    "        \n",
    "    \n",
    "\n",
    "#Create posts\n",
    "\n",
    "@app.route('/create_p',methods=['POST'])\n",
    "def create_p():\n",
    "    if request.method=='POST':\n",
    "        id1=request.form.get('usr_name')\n",
    "        return render_template('create.html',name=id1)\n",
    "    else:\n",
    "        return redirect(request.url)\n",
    "\n",
    "#back\n",
    "\n",
    "@app.route('/back',methods=['POST'])\n",
    "def back():\n",
    "    if request.method=='POST':\n",
    "        id1=request.form.get('usr_name')\n",
    "        return render_template('home.html',name=id1)\n",
    "    else:\n",
    "        return redirect(request.url)\n",
    "    \n",
    "#get feed\n",
    "    \n",
    "@app.route('/feed_v',methods=['POST'])\n",
    "def feed_v():\n",
    "    if request.method=='POST':\n",
    "        id1=request.form.get('usr_name')\n",
    "        return render_template('feed.html',name=id1)\n",
    "    else:\n",
    "        return redirect(request.url)\n",
    "\n",
    "#view friends    \n",
    "    \n",
    "@app.route('/view_fr',methods=['POST'])\n",
    "def view_fr():\n",
    "    if request.method=='POST':\n",
    "        id1=request.form.get('usr_name')\n",
    "        return render_template('view.html',name=id1)\n",
    "    else:\n",
    "        return redirect(request.url)\n",
    "\n",
    "        \n",
    "if __name__ == \"__main__\":\n",
    "    app.run()\n",
    "    \n",
    "    "
   ]
  },
  {
   "cell_type": "code",
   "execution_count": null,
   "metadata": {},
   "outputs": [],
   "source": []
  },
  {
   "cell_type": "code",
   "execution_count": null,
   "metadata": {},
   "outputs": [],
   "source": []
  }
 ],
 "metadata": {
  "kernelspec": {
   "display_name": "Python 3",
   "language": "python",
   "name": "python3"
  },
  "language_info": {
   "codemirror_mode": {
    "name": "ipython",
    "version": 3
   },
   "file_extension": ".py",
   "mimetype": "text/x-python",
   "name": "python",
   "nbconvert_exporter": "python",
   "pygments_lexer": "ipython3",
   "version": "3.6.9"
  }
 },
 "nbformat": 4,
 "nbformat_minor": 2
}
